{
  "cells": [
    {
      "cell_type": "markdown",
      "metadata": {
        "id": "view-in-github",
        "colab_type": "text"
      },
      "source": [
        "<a href=\"https://colab.research.google.com/github/akosolapov77/-/blob/main/HomeWorkPandas.ipynb\" target=\"_parent\"><img src=\"https://colab.research.google.com/assets/colab-badge.svg\" alt=\"Open In Colab\"/></a>"
      ]
    },
    {
      "cell_type": "code",
      "execution_count": null,
      "id": "3679b72d",
      "metadata": {
        "id": "3679b72d",
        "outputId": "5c632b33-dddf-46b1-bcaf-0559527360bb"
      },
      "outputs": [
        {
          "data": {
            "text/plain": [
              "318    153\n",
              "Name: movieId, dtype: int64"
            ]
          },
          "execution_count": 14,
          "metadata": {},
          "output_type": "execute_result"
        }
      ],
      "source": [
        "#Задание 1\n",
        "#Скачайте с сайта grouplens.org...movielens/ датасет любого размера. \n",
        "#Определите какому фильму было выставлено больше всего оценок 5.0.\n",
        "\n",
        "import pandas as pd\n",
        "ds = pd.read_csv('ml-latest-small/ratings.csv')\n",
        "ds.head()\n",
        "ds[ds['rating']==5.0]['movieId'].value_counts().head(1)"
      ]
    },
    {
      "cell_type": "code",
      "execution_count": null,
      "id": "b298ad31",
      "metadata": {
        "id": "b298ad31",
        "outputId": "10261aa4-82aa-468d-fb98-bf7597fc6581"
      },
      "outputs": [
        {
          "name": "stdout",
          "output_type": "stream",
          "text": [
            "суммарное потребление: 240580.0\n"
          ]
        }
      ],
      "source": [
        "#Задание 2\n",
        "#По данным файла power.csv посчитайте суммарное потребление стран Прибалтики (Латвия, Литва и Эстония)\n",
        "#категорий 4, 12 и 21 за период с 2005 по 2010 года. \n",
        "#Не учитывайте в расчетах отрицательные значения quantity.\n",
        "\n",
        "import pandas as pd\n",
        "summ=0\n",
        "ds=pd.read_csv(\"power.csv\")\n",
        "ds2=ds[(ds['year']>=2005)&(ds['year']<=2010)&(ds['quantity']>0)]\n",
        "ds3=ds2[ds2.category.isin([4,12,21])]\n",
        "summ=ds3[ds3.country.str.contains('|'.join(['Lat','Lit','Est']))]['quantity'].sum()\n",
        "print('суммарное потребление: {}'.format(summ))"
      ]
    },
    {
      "cell_type": "code",
      "execution_count": null,
      "id": "1b30ca1f",
      "metadata": {
        "id": "1b30ca1f",
        "outputId": "9b3e8262-724f-4bb6-961d-2637ffce6c0c"
      },
      "outputs": [
        {
          "data": {
            "text/html": [
              "<div>\n",
              "<style scoped>\n",
              "    .dataframe tbody tr th:only-of-type {\n",
              "        vertical-align: middle;\n",
              "    }\n",
              "\n",
              "    .dataframe tbody tr th {\n",
              "        vertical-align: top;\n",
              "    }\n",
              "\n",
              "    .dataframe thead th {\n",
              "        text-align: right;\n",
              "    }\n",
              "</style>\n",
              "<table border=\"1\" class=\"dataframe\">\n",
              "  <thead>\n",
              "    <tr style=\"text-align: right;\">\n",
              "      <th></th>\n",
              "      <th>Название</th>\n",
              "      <th>Цена</th>\n",
              "      <th>Изменение</th>\n",
              "      <th>Изменение(%)</th>\n",
              "      <th>Обновлено</th>\n",
              "    </tr>\n",
              "  </thead>\n",
              "  <tbody>\n",
              "    <tr>\n",
              "      <th>0</th>\n",
              "      <td>EURRUB Курс евро к рублю сегодня</td>\n",
              "      <td>92.80</td>\n",
              "      <td>0.0</td>\n",
              "      <td>0.0</td>\n",
              "      <td>NaN</td>\n",
              "    </tr>\n",
              "    <tr>\n",
              "      <th>1</th>\n",
              "      <td>USDRUB Курс рубля к доллару</td>\n",
              "      <td>86.82</td>\n",
              "      <td>0.0</td>\n",
              "      <td>0.0</td>\n",
              "      <td>NaN</td>\n",
              "    </tr>\n",
              "  </tbody>\n",
              "</table>\n",
              "</div>"
            ],
            "text/plain": [
              "                           Название   Цена  Изменение  Изменение(%)  Обновлено\n",
              "0  EURRUB Курс евро к рублю сегодня  92.80        0.0           0.0        NaN\n",
              "1       USDRUB Курс рубля к доллару  86.82        0.0           0.0        NaN"
            ]
          },
          "execution_count": 6,
          "metadata": {},
          "output_type": "execute_result"
        }
      ],
      "source": [
        "#Выберите страницу любого сайта с табличными данными. Импортируйте таблицы в pandas dataframe.\n",
        "#Примеры страниц (необязательно брать именно эти):\n",
        "#https://fortrader.org/quotes\n",
        "#www.finanz.ru...om-vremeni\n",
        "\n",
        "import pandas as pd\n",
        "df = pd.read_html('https://fortrader.org/quotes')[0]\n"
      ]
    }
  ],
  "metadata": {
    "kernelspec": {
      "display_name": "Python 3 (ipykernel)",
      "language": "python",
      "name": "python3"
    },
    "language_info": {
      "codemirror_mode": {
        "name": "ipython",
        "version": 3
      },
      "file_extension": ".py",
      "mimetype": "text/x-python",
      "name": "python",
      "nbconvert_exporter": "python",
      "pygments_lexer": "ipython3",
      "version": "3.10.1"
    },
    "colab": {
      "name": "HomeWorkPandas.ipynb",
      "provenance": [],
      "include_colab_link": true
    }
  },
  "nbformat": 4,
  "nbformat_minor": 5
}